{
  "nbformat": 4,
  "nbformat_minor": 0,
  "metadata": {
    "colab": {
      "provenance": [],
      "authorship_tag": "ABX9TyPFqtrj6lj/SY4w5NOYkx1v",
      "include_colab_link": true
    },
    "kernelspec": {
      "name": "python3",
      "display_name": "Python 3"
    },
    "language_info": {
      "name": "python"
    }
  },
  "cells": [
    {
      "cell_type": "markdown",
      "metadata": {
        "id": "view-in-github",
        "colab_type": "text"
      },
      "source": [
        "<a href=\"https://colab.research.google.com/github/supriyajujjuri/Login-Registration-Page/blob/main/Loginpage.ipynb\" target=\"_parent\"><img src=\"https://colab.research.google.com/assets/colab-badge.svg\" alt=\"Open In Colab\"/></a>"
      ]
    },
    {
      "cell_type": "code",
      "execution_count": 1,
      "metadata": {
        "colab": {
          "base_uri": "https://localhost:8080/"
        },
        "id": "25RUKoXDIjsq",
        "outputId": "f0641146-e457-46ad-f0b8-e3cf9b0d0554"
      },
      "outputs": [
        {
          "output_type": "stream",
          "name": "stdout",
          "text": [
            "\n",
            "--- Welcome to the System ---\n",
            "1️⃣ Register\n",
            "2️⃣ Login\n",
            "3️⃣ Forgot Password\n",
            "4️⃣ Exit\n",
            "Choose an option: 1\n",
            "Enter your email: sam@gmaol.com\n",
            "Create a password: ··········\n",
            "✅ Registration successful!\n",
            "\n",
            "--- Welcome to the System ---\n",
            "1️⃣ Register\n",
            "2️⃣ Login\n",
            "3️⃣ Forgot Password\n",
            "4️⃣ Exit\n",
            "Choose an option: 2\n",
            "Enter your email: sam\n",
            "Enter your password: ··········\n",
            "❌ Invalid email or password. Try again!\n",
            "\n",
            "--- Welcome to the System ---\n",
            "1️⃣ Register\n",
            "2️⃣ Login\n",
            "3️⃣ Forgot Password\n",
            "4️⃣ Exit\n",
            "Choose an option: 2\n",
            "Enter your email: samkd\n",
            "Enter your password: ··········\n",
            "❌ Invalid email or password. Try again!\n",
            "\n",
            "--- Welcome to the System ---\n",
            "1️⃣ Register\n",
            "2️⃣ Login\n",
            "3️⃣ Forgot Password\n",
            "4️⃣ Exit\n",
            "Choose an option: 4\n",
            "👋 Exiting... Have a great day!\n"
          ]
        }
      ],
      "source": [
        "import sqlite3\n",
        "import getpass\n",
        "\n",
        "# Connect to SQLite database\n",
        "conn = sqlite3.connect(\"users.db\")\n",
        "cursor = conn.cursor()\n",
        "\n",
        "# Create users table if not exists\n",
        "cursor.execute(\"\"\"\n",
        "CREATE TABLE IF NOT EXISTS users (\n",
        "    email TEXT PRIMARY KEY,\n",
        "    password TEXT NOT NULL\n",
        ")\n",
        "\"\"\")\n",
        "conn.commit()\n",
        "\n",
        "# Function to register a new user\n",
        "def register():\n",
        "    email = input(\"Enter your email: \")\n",
        "    cursor.execute(\"SELECT * FROM users WHERE email = ?\", (email,))\n",
        "    if cursor.fetchone():\n",
        "        print(\"⚠️ Email already registered! Try logging in.\")\n",
        "        return\n",
        "\n",
        "    password = getpass.getpass(\"Create a password: \")\n",
        "    cursor.execute(\"INSERT INTO users (email, password) VALUES (?, ?)\", (email, password))\n",
        "    conn.commit()\n",
        "    print(\"✅ Registration successful!\")\n",
        "\n",
        "# Function to login\n",
        "def login():\n",
        "    email = input(\"Enter your email: \")\n",
        "    password = getpass.getpass(\"Enter your password: \")\n",
        "\n",
        "    cursor.execute(\"SELECT * FROM users WHERE email = ? AND password = ?\", (email, password))\n",
        "    if cursor.fetchone():\n",
        "        print(\"✅ Login successful! Welcome back!\")\n",
        "    else:\n",
        "        print(\"❌ Invalid email or password. Try again!\")\n",
        "\n",
        "# Function to reset password\n",
        "def reset_password():\n",
        "    email = input(\"Enter your email to reset password: \")\n",
        "    cursor.execute(\"SELECT * FROM users WHERE email = ?\", (email,))\n",
        "    if not cursor.fetchone():\n",
        "        print(\"⚠️ Email not found! Please register first.\")\n",
        "        return\n",
        "\n",
        "    new_password = getpass.getpass(\"Enter new password: \")\n",
        "    cursor.execute(\"UPDATE users SET password = ? WHERE email = ?\", (new_password, email))\n",
        "    conn.commit()\n",
        "    print(\"🔄 Password updated successfully!\")\n",
        "\n",
        "# Menu loop\n",
        "while True:\n",
        "    print(\"\\n--- Welcome to the System ---\")\n",
        "    print(\"1️⃣ Register\")\n",
        "    print(\"2️⃣ Login\")\n",
        "    print(\"3️⃣ Forgot Password\")\n",
        "    print(\"4️⃣ Exit\")\n",
        "\n",
        "    choice = input(\"Choose an option: \")\n",
        "\n",
        "    if choice == \"1\":\n",
        "        register()\n",
        "    elif choice == \"2\":\n",
        "        login()\n",
        "    elif choice == \"3\":\n",
        "        reset_password()\n",
        "    elif choice == \"4\":\n",
        "        print(\"👋 Exiting... Have a great day!\")\n",
        "        break\n",
        "    else:\n",
        "        print(\"❌ Invalid choice! Please try again.\")\n",
        "\n",
        "# Close database"
      ]
    }
  ]
}